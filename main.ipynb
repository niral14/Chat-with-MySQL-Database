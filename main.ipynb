{
 "cells": [
  {
   "cell_type": "code",
   "execution_count": null,
   "id": "afaabff9",
   "metadata": {},
   "outputs": [],
   "source": [
    "import os\n"
   ]
  },
  {
   "cell_type": "code",
   "execution_count": 61,
   "id": "eca88ace",
   "metadata": {},
   "outputs": [],
   "source": [
    "template = \"\"\"\n",
    "You are an expert SQL assistant.\n",
    "\n",
    "Based on the database schema below, return **only a valid, executable SQL query** that answers the user's question.\n",
    "Do **not** explain anything.\n",
    "Do **not** return anything else — only the SQL.\n",
    "\n",
    "Schema:\n",
    "{schema}\n",
    "\n",
    "Question: {question}\n",
    "\n",
    "SQL:\n",
    "\"\"\"\n",
    "prompt = ChatPromptTemplate.from_template(template.strip())\n"
   ]
  },
  {
   "cell_type": "code",
   "execution_count": 62,
   "id": "1d8d00a1",
   "metadata": {},
   "outputs": [
    {
     "data": {
      "text/plain": [
       "\"Human: You are an expert SQL assistant.\\n\\nBased on the database schema below, return **only a valid, executable SQL query** that answers the user's question.\\nDo **not** explain anything.\\nDo **not** return anything else — only the SQL.\\n\\nSchema:\\nmyschema\\n\\nQuestion: how many users are there?\\n\\nSQL:\""
      ]
     },
     "execution_count": 62,
     "metadata": {},
     "output_type": "execute_result"
    }
   ],
   "source": [
    "prompt.format(schema=\"myschema\",question=\"how many users are there?\")"
   ]
  },
  {
   "cell_type": "code",
   "execution_count": null,
   "id": "114fb085",
   "metadata": {},
   "outputs": [],
   "source": [
    "from langchain_community.utilities import SQLDatabase\n",
    "# if you are using MySQL\n",
    "mysql_uri = \"\"\n",
    "\n",
    "db = SQLDatabase.from_uri(mysql_uri)"
   ]
  },
  {
   "cell_type": "code",
   "execution_count": 64,
   "id": "8871fa7f",
   "metadata": {},
   "outputs": [
    {
     "data": {
      "text/plain": [
       "\"[(1, 'AC/DC'), (2, 'Accept'), (3, 'Aerosmith'), (4, 'Alanis Morissette'), (5, 'Alice In Chains')]\""
      ]
     },
     "execution_count": 64,
     "metadata": {},
     "output_type": "execute_result"
    }
   ],
   "source": [
    "db.run(\"SELECT * FROM artist limit 5;\")"
   ]
  },
  {
   "cell_type": "code",
   "execution_count": 65,
   "id": "68fa84ae",
   "metadata": {},
   "outputs": [],
   "source": [
    "def get_schema(_):\n",
    "    return db.get_table_info()"
   ]
  },
  {
   "cell_type": "code",
   "execution_count": null,
   "id": "bc5bbf70",
   "metadata": {},
   "outputs": [],
   "source": [
    "from langchain_core.output_parsers import StrOutputParser\n",
    "from langchain_core.runnables import RunnablePassthrough\n",
    "from langchain_openai import ChatOpenAI\n",
    "\n",
    "llm = ChatOpenAI(\n",
    "    model=\"mistralai/mistral-small-3.2-24b-instruct\",  # full model name from OpenRouter\n",
    "    openai_api_key=\"\",\n",
    "    openai_api_base=\"\"     # ✅ Correct base URL\n",
    ") \n",
    "\n",
    "# Your LangChain SQL chain\n",
    "sql_chain = (\n",
    "    RunnablePassthrough.assign(schema=get_schema)\n",
    "    | prompt\n",
    "    | llm.bind(stop=[\"```\", \"SQLResult:\", \"\\n```\"])\n",
    "    | StrOutputParser()\n",
    ")\n"
   ]
  },
  {
   "cell_type": "code",
   "execution_count": 67,
   "id": "9993b6f8",
   "metadata": {},
   "outputs": [
    {
     "data": {
      "text/plain": [
       "'SELECT COUNT(*) FROM album;'"
      ]
     },
     "execution_count": 67,
     "metadata": {},
     "output_type": "execute_result"
    }
   ],
   "source": [
    "user_question = 'how many albums are there in the database?'\n",
    "sql_chain.invoke({\"question\": user_question})\n",
    "\n",
    "# 'SELECT COUNT(*) AS TotalAlbums\\nFROM Album;'\n"
   ]
  },
  {
   "cell_type": "code",
   "execution_count": 68,
   "id": "1fb05cf5",
   "metadata": {},
   "outputs": [],
   "source": [
    "template = \"\"\"Based on the table schema below, question, sql query, and sql response, write a natural language response:\n",
    "{schema}\n",
    "\n",
    "Question: {question}\n",
    "SQL Query: {query}\n",
    "SQL Response: {response}\"\"\"\n",
    "prompt_response = ChatPromptTemplate.from_template(template)\n"
   ]
  },
  {
   "cell_type": "code",
   "execution_count": 69,
   "id": "4cc46d0f",
   "metadata": {},
   "outputs": [],
   "source": [
    "def run_query(query):\n",
    "    return db.run(query)\n"
   ]
  },
  {
   "cell_type": "code",
   "execution_count": 74,
   "id": "c7059722",
   "metadata": {},
   "outputs": [],
   "source": [
    "full_chain = (\n",
    "    RunnablePassthrough.assign(query=sql_chain).assign(\n",
    "        schema=get_schema,\n",
    "        response=lambda vars: run_query(vars[\"query\"]),\n",
    "    )\n",
    "    | prompt_response\n",
    "    | llm\n",
    "    | StrOutputParser()\n",
    ")\n"
   ]
  },
  {
   "cell_type": "code",
   "execution_count": 75,
   "id": "0a0280b7",
   "metadata": {},
   "outputs": [
    {
     "data": {
      "text/plain": [
       "'Based on the SQL query and response, there are indeed 347 albums in the data. The query counted the total number of records in the `album` table, which returned a result of 347.'"
      ]
     },
     "execution_count": 75,
     "metadata": {},
     "output_type": "execute_result"
    }
   ],
   "source": [
    "user_question = 'are there 347 albums in the data?'\n",
    "full_chain.invoke({\"question\": user_question})\n",
    "\n",
    "# 'There are 347 albums in the database.'\n"
   ]
  },
  {
   "cell_type": "code",
   "execution_count": null,
   "id": "4aa63b11",
   "metadata": {},
   "outputs": [],
   "source": []
  }
 ],
 "metadata": {
  "kernelspec": {
   "display_name": "chat-with-mysql",
   "language": "python",
   "name": "python3"
  },
  "language_info": {
   "codemirror_mode": {
    "name": "ipython",
    "version": 3
   },
   "file_extension": ".py",
   "mimetype": "text/x-python",
   "name": "python",
   "nbconvert_exporter": "python",
   "pygments_lexer": "ipython3",
   "version": "3.10.18"
  }
 },
 "nbformat": 4,
 "nbformat_minor": 5
}
